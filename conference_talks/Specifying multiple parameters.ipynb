{
 "cells": [
  {
   "cell_type": "code",
   "execution_count": 9,
   "id": "2f64340a",
   "metadata": {},
   "outputs": [],
   "source": [
    "import numpy as np\n",
    "import pandas as pd\n",
    "import seaborn as sns\n",
    "import matplotlib.pyplot as plt\n",
    "\n",
    "arr = np.random.normal(0, 10, size=10000)"
   ]
  },
  {
   "cell_type": "code",
   "execution_count": 2,
   "id": "db7a08b4",
   "metadata": {},
   "outputs": [
    {
     "data": {
      "text/plain": [
       "<AxesSubplot:ylabel='Count'>"
      ]
     },
     "execution_count": 2,
     "metadata": {},
     "output_type": "execute_result"
    },
    {
     "data": {
      "image/png": "[encoded data removed]",
      "text/plain": [
       "<Figure size 432x288 with 1 Axes>"
      ]
     },
     "metadata": {
      "needs_background": "light"
     },
     "output_type": "display_data"
    }
   ],
   "source": [
    "sns.histplot(arr)"
   ]
  },
  {
   "cell_type": "code",
   "execution_count": 10,
   "id": "7379895c",
   "metadata": {},
   "outputs": [],
   "source": [
    "from scipy import stats\n",
    "\n",
    "def get_stats(data):\n",
    "    return (\n",
    "        data.mean(),\n",
    "        data.std(),\n",
    "        stats.skew(data),\n",
    "        stats.kurtosis(data)\n",
    "    )\n",
    "\n",
    "def generate_close_data(sample, max_iter=1000, mean_tol=0.0001, std_tol=0.001, skew_tol=0.1, kurt_tol=0.1):\n",
    "    mean, std, skew, kurt = get_stats(sample)\n",
    "    best_sample = np.random.normal(mean, std, size=10000)\n",
    "    best_mean, best_std, best_skew, best_kurt = get_stats(best_sample)\n",
    "    best_mean_diff = abs(mean - best_mean)\n",
    "    best_std_diff = abs(std - best_std)\n",
    "    best_skew_diff = abs(skew - best_skew)\n",
    "    best_kurt_diff = abs(kurt - best_kurt)\n",
    "    for _ in range(max_iter):\n",
    "        new_sample = np.random.normal(mean, std, size=10000)\n",
    "        new_mean, new_std, new_skew, new_kurt = get_stats(new_sample)\n",
    "        new_mean_diff = abs(mean - new_mean)\n",
    "        new_std_diff = abs(std - new_std)\n",
    "        new_skew_diff = abs(skew - new_skew)\n",
    "        new_kurt_diff = abs(kurt - new_kurt)\n",
    "\n",
    "        if (new_mean_diff < mean_tol) and (new_std_diff < std_tol) and (new_skew_diff < skew_tol) and (new_kurt_diff < kurt_tol):\n",
    "            return new_sample\n",
    "        elif new_mean_diff < best_mean_diff and new_std_diff < best_std_diff and new_skew_diff < best_skew_diff and new_kurt_diff < best_kurt_diff:\n",
    "            best_sample = new_sample\n",
    "            best_mean_diff = new_mean_diff\n",
    "            best_std_diff = new_std_diff\n",
    "            best_skew_diff = new_skew_diff\n",
    "            best_kurt_diff = new_kurt_diff\n",
    "    return best_sample"
   ]
  },
  {
   "cell_type": "code",
   "execution_count": 11,
   "id": "791bc1b9",
   "metadata": {},
   "outputs": [
    {
     "data": {
      "image/png": "[encoded data removed]",
      "text/plain": [
       "<Figure size 432x288 with 1 Axes>"
      ]
     },
     "metadata": {
      "needs_background": "light"
     },
     "output_type": "display_data"
    },
    {
     "data": {
      "text/plain": [
       "<AxesSubplot:ylabel='Count'>"
      ]
     },
     "execution_count": 11,
     "metadata": {},
     "output_type": "execute_result"
    },
    {
     "data": {
      "image/png": "[encoded data removed]",
      "text/plain": [
       "<Figure size 432x288 with 1 Axes>"
      ]
     },
     "metadata": {
      "needs_background": "light"
     },
     "output_type": "display_data"
    }
   ],
   "source": [
    "new_sample = generate_close_data(arr)\n",
    "sns.histplot(arr)\n",
    "plt.show()\n",
    "sns.histplot(new_sample)"
   ]
  },
  {
   "cell_type": "code",
   "execution_count": 12,
   "id": "96c4e8b3",
   "metadata": {},
   "outputs": [
    {
     "data": {
      "text/plain": [
       "KstestResult(statistic=0.0096, pvalue=0.746165905555301)"
      ]
     },
     "execution_count": 12,
     "metadata": {},
     "output_type": "execute_result"
    }
   ],
   "source": [
    "stats.ks_2samp(arr, new_sample)\n",
    "# we fail to reject the null hypothesis, so they are drawn from the same distribution"
   ]
  },
  {
   "cell_type": "code",
   "execution_count": null,
   "id": "70c7ddd4",
   "metadata": {},
   "outputs": [],
   "source": []
  }
 ],
 "metadata": {
  "kernelspec": {
   "display_name": "Python 3",
   "language": "python",
   "name": "python3"
  },
  "language_info": {
   "codemirror_mode": {
    "name": "ipython",
    "version": 3
   },
   "file_extension": ".py",
   "mimetype": "text/x-python",
   "name": "python",
   "nbconvert_exporter": "python",
   "pygments_lexer": "ipython3",
   "version": "3.9.5"
  }
 },
 "nbformat": 4,
 "nbformat_minor": 5
}
